{
  "cells": [
    {
      "cell_type": "markdown",
      "metadata": {
        "id": "vH45xtw7DuxC"
      },
      "source": [
        "#**Functions vs. Methods**\n",
        "A function that lives inside a class is called a method.\n",
        "\n",
        "So, methods are functions, but not all functions are methods.\n",
        "\n"
      ]
    },
    {
      "cell_type": "markdown",
      "metadata": {
        "id": "BVmliOTbD8Z3"
      },
      "source": [
        "# Function"
      ]
    },
    {
      "cell_type": "code",
      "execution_count": 1,
      "metadata": {
        "id": "oiRHwNy4Dq6M"
      },
      "outputs": [],
      "source": [
        "def average(sequence):\n",
        "    return sum(sequence) / len(sequence)"
      ]
    },
    {
      "cell_type": "markdown",
      "metadata": {
        "id": "uHt2uyzgEEuK"
      },
      "source": [
        "# Method"
      ]
    },
    {
      "cell_type": "code",
      "execution_count": 2,
      "metadata": {
        "id": "UBX3Fzm9EI4b"
      },
      "outputs": [],
      "source": [
        "class Student:\n",
        "    def __init__(self):  # method\n",
        "        self.name = \"Rolf\"\n",
        "        self.grades = (79, 90, 95, 99)\n",
        "    \n",
        "    def average(self):  # method\n",
        "        return sum(self.grades) / len(self.grades)"
      ]
    }
  ],
  "metadata": {
    "colab": {
      "collapsed_sections": [],
      "name": "Untitled25.ipynb",
      "provenance": []
    },
    "kernelspec": {
      "display_name": "Python 3",
      "name": "python3"
    },
    "language_info": {
      "name": "python"
    }
  },
  "nbformat": 4,
  "nbformat_minor": 0
}
