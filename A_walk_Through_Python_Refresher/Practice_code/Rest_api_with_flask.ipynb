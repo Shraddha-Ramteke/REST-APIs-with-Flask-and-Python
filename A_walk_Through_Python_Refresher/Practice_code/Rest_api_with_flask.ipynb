{
  "nbformat": 4,
  "nbformat_minor": 0,
  "metadata": {
    "colab": {
      "name": "Rest_api_with_flask.ipynb",
      "provenance": []
    },
    "kernelspec": {
      "name": "python3",
      "display_name": "Python 3"
    },
    "language_info": {
      "name": "python"
    }
  },
  "cells": [
    {
      "cell_type": "markdown",
      "source": [
        "# variables\n",
        "\n"
      ],
      "metadata": {
        "id": "412qpxWrNvWT"
      }
    },
    {
      "cell_type": "code",
      "execution_count": 1,
      "metadata": {
        "colab": {
          "base_uri": "https://localhost:8080/"
        },
        "id": "a9fpjPz-Nt2N",
        "outputId": "1f2582ff-ae56-41e7-dd8d-1f7576335b9c"
      },
      "outputs": [
        {
          "output_type": "stream",
          "name": "stdout",
          "text": [
            "5.24\n"
          ]
        }
      ],
      "source": [
        "# variables\n",
        "# assignments variables\n",
        "\n",
        "# int and float variable\n",
        "x = 50\n",
        "\n",
        "price = 6.55\n",
        "\n",
        "discount = 0.2\n",
        "\n",
        "result = price*(1 - discount)\n",
        "\n",
        "print(result)"
      ]
    },
    {
      "cell_type": "code",
      "source": [
        "# string variable\n",
        "\n",
        "name = 'deepak'\n",
        "\n",
        "name = \"deepak\"\n",
        "\n",
        "print(name)"
      ],
      "metadata": {
        "colab": {
          "base_uri": "https://localhost:8080/"
        },
        "id": "_ZJ9u8BdOAX3",
        "outputId": "d9751f58-da07-4038-ec4b-6f271c5ce2c5"
      },
      "execution_count": 2,
      "outputs": [
        {
          "output_type": "stream",
          "name": "stdout",
          "text": [
            "deepak\n"
          ]
        }
      ]
    },
    {
      "cell_type": "code",
      "source": [
        "name1 = name*2\n",
        "\n",
        "print(name1)"
      ],
      "metadata": {
        "colab": {
          "base_uri": "https://localhost:8080/"
        },
        "id": "7rBJ13weOEfG",
        "outputId": "b55a4a9a-ac31-46a8-cda2-e9db725cc9d7"
      },
      "execution_count": 3,
      "outputs": [
        {
          "output_type": "stream",
          "name": "stdout",
          "text": [
            "deepakdeepak\n"
          ]
        }
      ]
    },
    {
      "cell_type": "code",
      "source": [
        "a = 25\n",
        "b = a\n",
        "\n",
        "print(b)\n",
        "\n",
        "b = 17\n",
        "\n",
        "print(b)\n",
        "\n",
        "print(a)\n",
        "\n",
        "# the assignment don't change the other variable, if any changes made than it change to later variable only"
      ],
      "metadata": {
        "colab": {
          "base_uri": "https://localhost:8080/"
        },
        "id": "6QfU-_MPOIaL",
        "outputId": "cd960771-77fa-4c2b-f580-3b0b1a4e2f06"
      },
      "execution_count": 4,
      "outputs": [
        {
          "output_type": "stream",
          "name": "stdout",
          "text": [
            "25\n",
            "17\n",
            "25\n"
          ]
        }
      ]
    },
    {
      "cell_type": "code",
      "source": [
        "# exerice 1\n",
        "# assigning the two variable with same value\n",
        "var1 = 52\n",
        "var2 = 52\n",
        "\n",
        "# two variable whose multiply give 16 as output\n",
        "num1 = 8\n",
        "num2 = 2\n",
        "\n",
        "print(num1*num2)"
      ],
      "metadata": {
        "colab": {
          "base_uri": "https://localhost:8080/"
        },
        "id": "a9pjOKbXOL73",
        "outputId": "69e0525a-71cf-4616-9976-b49932dc7b0c"
      },
      "execution_count": 5,
      "outputs": [
        {
          "output_type": "stream",
          "name": "stdout",
          "text": [
            "16\n"
          ]
        }
      ]
    },
    {
      "cell_type": "code",
      "source": [
        "# string formatting\n",
        "\n",
        "name = \"ram\"\n",
        "\n",
        "greeting = \"Hello, ram\"\n",
        "\n",
        "print(greeting)\n",
        "\n",
        "# f- string\n",
        "name = \"ram\"\n",
        "\n",
        "greeting = f\"Hello, {name}\"\n",
        "\n",
        "print(greeting)\n",
        "\n",
        "name = 'sham'\n",
        "\n",
        "print(greeting)\n",
        "\n",
        "# string format does not change dynamically\n",
        "\n",
        "# so for this, use this\n",
        "\n",
        "name = \"bob\"\n",
        "\n",
        "print(f\"Hello, {name}\")\n",
        "\n",
        "\n",
        "name = \"sham\"\n",
        "\n",
        "print(f\"Hello, {name}\")\n",
        "\n",
        "# we can use . format\n",
        "\n",
        "name = \"rolf\"\n",
        "\n",
        "print(\"Hello, {}\".format(name))\n",
        "\n",
        "name = 'deepak'\n",
        "\n",
        "print(\"Hello, {}\".format(name))\n",
        "\n",
        "longer_phrase = \"Hello, {}. Welcome to {}\"\n",
        "\n",
        "print(longer_phrase.format(\"deepak\", \"bootcamp\"))"
      ],
      "metadata": {
        "colab": {
          "base_uri": "https://localhost:8080/"
        },
        "id": "lQYH6fZFOQxn",
        "outputId": "52580d29-d7e7-424c-d992-964e580d97a7"
      },
      "execution_count": 6,
      "outputs": [
        {
          "output_type": "stream",
          "name": "stdout",
          "text": [
            "Hello, ram\n",
            "Hello, ram\n",
            "Hello, ram\n",
            "Hello, bob\n",
            "Hello, sham\n",
            "Hello, rolf\n",
            "Hello, deepak\n",
            "Hello, deepak. Welcome to bootcamp\n"
          ]
        }
      ]
    },
    {
      "cell_type": "code",
      "source": [
        "# we can use input()\n",
        "\n",
        "name = input(\"Enter your name: \")\n",
        "\n",
        "print(\"hello\", name)\n",
        "\n",
        "\n",
        "# change the input to int in order to have calculation for maths\n",
        "\n",
        "weight = int(input(\"Enter your weight in kg: \"))\n",
        "weight_in_gms = weight * 1000\n",
        "\n",
        "print(\"Your weight in gms is : {}\".format(weight_in_gms) )"
      ],
      "metadata": {
        "colab": {
          "base_uri": "https://localhost:8080/"
        },
        "id": "eV5Pri5WOWZw",
        "outputId": "b5c85fd9-e3d4-4850-e144-69d9c39bdbfe"
      },
      "execution_count": 7,
      "outputs": [
        {
          "output_type": "stream",
          "name": "stdout",
          "text": [
            "Enter your name: Shraddha Shrikamal Ramteke\n",
            "hello Shraddha Shrikamal Ramteke\n",
            "Enter your weight in kg: 45\n",
            "Your weight in gms is : 45000\n"
          ]
        }
      ]
    },
    {
      "cell_type": "code",
      "source": [
        "# writing our first program in python\n",
        "\n",
        "age = int(input(\"Enter your age: \"))\n",
        "age_month = age * 12\n",
        "print(f\"Your age, {age}, is equal to {age_month} months  \")\\\n",
        "\n",
        "age_second= age * 12 * 30 * 24 * 60 *60\n",
        "\n",
        "print(f\"your age, {age}, is equal to {age_month} months and {age_second} seconds \")"
      ],
      "metadata": {
        "colab": {
          "base_uri": "https://localhost:8080/"
        },
        "id": "0sJsAF9BOik9",
        "outputId": "78c8af73-38d3-4c6d-83c6-812db6c891a5"
      },
      "execution_count": 8,
      "outputs": [
        {
          "output_type": "stream",
          "name": "stdout",
          "text": [
            "Enter your age: 22\n",
            "Your age, 22, is equal to 264 months  \n",
            "your age, 22, is equal to 264 months and 684288000 seconds \n"
          ]
        }
      ]
    },
    {
      "cell_type": "code",
      "source": [
        "# list, tuples, sets, dicts\n",
        "\n",
        "# mutable, different datatype, can access the element, allows duplicate variable\n",
        "lst = [\"bob\", \"rolf\", \"ganesh\"]\n",
        "\n",
        "print(lst[0])\n",
        "lst[1] = \"ram\"\n",
        "print(lst)\n",
        "\n",
        "#  immutable, different datatype, can access the element, allows duplicate variable\n",
        "tupl = (\"bob\", \"rofl\", \"ganesh\")\n",
        "print(tupl[1])\n",
        "# tupl[0] = \"sham\" # throw an error\n",
        "print(tupl)\n",
        "#  mutable, different datatype, can access the element,  doesn't allows duplicate variable\n",
        "set1 ={\"bob\", \"rofl\", \"ganesh\", \"bob\", \"rofl\"}\n",
        "print(set1)"
      ],
      "metadata": {
        "colab": {
          "base_uri": "https://localhost:8080/"
        },
        "id": "NIsxSgY3Oq_g",
        "outputId": "0eb7433a-73dd-4b1d-fa41-56ea8423fb19"
      },
      "execution_count": 9,
      "outputs": [
        {
          "output_type": "stream",
          "name": "stdout",
          "text": [
            "bob\n",
            "['bob', 'ram', 'ganesh']\n",
            "rofl\n",
            "('bob', 'rofl', 'ganesh')\n",
            "{'ganesh', 'rofl', 'bob'}\n"
          ]
        }
      ]
    },
    {
      "cell_type": "code",
      "source": [
        "# advance set operations\n",
        "\n",
        "friends = {'bob', 'rofl', 'ganesh'}\n",
        "local_friend = {'ganesh'}\n",
        "\n",
        "# difference function\n",
        "abroad = friends.difference(local_friend)\n",
        "print(abroad)\n",
        "\n",
        "# union function\n",
        "set1 = {'bob', 'rofl', 'ganesh'}\n",
        "set2 = {'ram', 'tina'}\n",
        "\n",
        "total = set1.union(set2)\n",
        "print(total)\n",
        "\n",
        "\n",
        "# intersection function\n",
        "art = {'tina', 'bob', 'ram', 'rofl', 'ganesh'}\n",
        "science = {'rofl', 'bob', 'sham', 'deepak'}\n",
        "\n",
        "both = art.intersection(science)\n",
        "print(both)"
      ],
      "metadata": {
        "colab": {
          "base_uri": "https://localhost:8080/"
        },
        "id": "ha-N46I9Ougd",
        "outputId": "b735897e-37cd-4820-e4de-c4d45cac8e96"
      },
      "execution_count": 10,
      "outputs": [
        {
          "output_type": "stream",
          "name": "stdout",
          "text": [
            "{'rofl', 'bob'}\n",
            "{'ganesh', 'tina', 'ram', 'rofl', 'bob'}\n",
            "{'rofl', 'bob'}\n"
          ]
        }
      ]
    },
    {
      "cell_type": "code",
      "source": [
        "# exercise 2 \n",
        "\n",
        "# list with three number to get the sum as 100\n",
        "\n",
        "my_list = [20, 65, 15]\n",
        "\n",
        "# tuple with one single value\n",
        "\n",
        "my_tuple= ('5',)\n",
        "\n",
        "# intersection \n",
        "set1 = {14, 5 ,9, 31, 12, 77, 67, 8}\n",
        "set2 = {5, 77, 9, 12}\n",
        "\n",
        "set3 = set1.intersection(set2)\n",
        "print(set3)"
      ],
      "metadata": {
        "colab": {
          "base_uri": "https://localhost:8080/"
        },
        "id": "QAkWAcDKOy50",
        "outputId": "a3ac191d-66b8-4024-86b8-bf5735b82141"
      },
      "execution_count": 11,
      "outputs": [
        {
          "output_type": "stream",
          "name": "stdout",
          "text": [
            "{9, 5, 12, 77}\n"
          ]
        }
      ]
    },
    {
      "cell_type": "code",
      "source": [
        "# Boolean in python\n",
        "# output comes in true or false, used to give comparison and give output\n",
        "print(15 == 15)\n",
        "print(5 > 4)\n",
        "print(100 < 55)\n",
        "\n",
        "# can use comparsion operator ==, !=, <=, >=, and so on"
      ],
      "metadata": {
        "colab": {
          "base_uri": "https://localhost:8080/"
        },
        "id": "SzwRMJ33O2g1",
        "outputId": "3c7c53bf-530f-42d5-f1ea-84c00f8b103c"
      },
      "execution_count": 12,
      "outputs": [
        {
          "output_type": "stream",
          "name": "stdout",
          "text": [
            "True\n",
            "True\n",
            "False\n"
          ]
        }
      ]
    },
    {
      "cell_type": "code",
      "source": [
        "# if statements\n",
        "\n",
        "day_of_week =input(\"What day of the week is it today?\").lower()\n",
        "\n",
        "\n",
        "if day_of_week == \"monday\":\n",
        "  print(\"Have a great start of week!\")\n",
        "elif day_of_week == \"tuesday\":\n",
        "  print(\"Its Tuesday\")\n",
        "else:\n",
        "  print(\"full speed ahead\")\n",
        "\n",
        "print(\"Go on\")"
      ],
      "metadata": {
        "colab": {
          "base_uri": "https://localhost:8080/"
        },
        "id": "OfqEZ6LYO5L0",
        "outputId": "6ce40367-2d54-4b7c-e532-80f968b5ce27"
      },
      "execution_count": 13,
      "outputs": [
        {
          "output_type": "stream",
          "name": "stdout",
          "text": [
            "What day of the week is it today?tuesday\n",
            "Its Tuesday\n",
            "Go on\n"
          ]
        }
      ]
    },
    {
      "cell_type": "code",
      "source": [
        "# in keyword \n",
        "\n",
        "# check for the list, tuple\n",
        "science = {'rofl', 'bob', 'sham', 'deepak'}\n",
        "\n",
        "print('rofl' in science)\n",
        "\n",
        "fruits = ['apple', 'mango', 'banana', 'watermelon']\n",
        "user_fruit = input(\"enter your fruit name: \")\n",
        "\n",
        "print(user_fruit in fruits)"
      ],
      "metadata": {
        "colab": {
          "base_uri": "https://localhost:8080/"
        },
        "id": "DpBGs1NRPAtD",
        "outputId": "8786c177-987c-49e7-b1ae-9bc3fd442f5a"
      },
      "execution_count": 14,
      "outputs": [
        {
          "output_type": "stream",
          "name": "stdout",
          "text": [
            "True\n",
            "enter your fruit name: banana\n",
            "True\n"
          ]
        }
      ]
    },
    {
      "cell_type": "code",
      "source": [
        "# if and in statements\n",
        "fruits = ['apple', 'mango', 'banana', 'watermelon']\n",
        "user_fruit = input(\"enter your fruit name: \")\n",
        "\n",
        "if user_fruit in fruits:\n",
        "  print(f\"I also like {user_fruit} also\")\n",
        "else:\n",
        "  print(f\"I would love to have {user_fruit}\")\n",
        "\n",
        "\n",
        "\n",
        "# another example\n",
        "\n",
        "number = 7\n",
        "user_input = input(\"Enter 'y' if you want to continue: \").lower()\n",
        "\n",
        "if user_input == 'y':\n",
        "  user_number = int(input(\"Enter your number\"))\n",
        "  if user_number == number:\n",
        "    print(\"Your guess is right\")\n",
        "  elif abs(number - user_number)== 1:\n",
        "    print(\"you are off by one\")\n",
        "  else:\n",
        "    print(\"sorry, Nice try\")\n",
        "\n",
        "print(\"Thankyou for playing\")"
      ],
      "metadata": {
        "colab": {
          "base_uri": "https://localhost:8080/"
        },
        "id": "IXy4YgLfPJAA",
        "outputId": "7139b664-141d-4643-c2df-e6c9ca2ec870"
      },
      "execution_count": 15,
      "outputs": [
        {
          "output_type": "stream",
          "name": "stdout",
          "text": [
            "enter your fruit name: apple\n",
            "I also like apple also\n",
            "Enter 'y' if you want to continue: y\n",
            "Enter your number23\n",
            "sorry, Nice try\n",
            "Thankyou for playing\n"
          ]
        }
      ]
    },
    {
      "cell_type": "code",
      "source": [
        "# Loops in python\n",
        "\n",
        "# repeat loop - while \n",
        "# definite loop - for loop\n",
        "\n",
        "number = 7\n",
        "\n",
        "\n",
        "while True:\n",
        "\n",
        "  user_input = input(\"Would you like to play? (Y/n)\")\n",
        "\n",
        "  if user_input == \"n\":\n",
        "    break\n",
        "\n",
        "  user_number = int(input(\"Enter your number\"))\n",
        "  if user_number == number:\n",
        "    print(\"Your guess is right\")\n",
        "    break\n",
        "  elif abs(number - user_number)== 1:\n",
        "    print(\"you are off by one\")\n",
        "  else:\n",
        "    print(\"sorry, Nice try\")\n",
        "\n",
        "print(\"Thankyou for playing\")"
      ],
      "metadata": {
        "colab": {
          "base_uri": "https://localhost:8080/"
        },
        "id": "B7An05vwPWmN",
        "outputId": "cda8a44e-c944-481e-ae47-64d0efc8713c"
      },
      "execution_count": 16,
      "outputs": [
        {
          "output_type": "stream",
          "name": "stdout",
          "text": [
            "Would you like to play? (Y/n)y\n",
            "Enter your number5\n",
            "sorry, Nice try\n",
            "Would you like to play? (Y/n)n\n",
            "Thankyou for playing\n"
          ]
        }
      ]
    },
    {
      "cell_type": "code",
      "source": [
        "# for loops \n",
        "\n",
        "fruits = ['apple', 'mango', 'banana', 'watermelon']\n",
        "\n",
        "for fruit in fruits:\n",
        "  print(fruit)\n",
        "\n",
        "for fruit in range(4):\n",
        "  print(fruit)\n",
        "\n",
        "marks = [65, 55, 90, 75, 60]\n",
        "total = 0\n",
        "amount = len(marks)\n",
        "\n",
        "for mark in marks:\n",
        "  total = total + mark\n",
        "\n",
        "print(total / amount)"
      ],
      "metadata": {
        "colab": {
          "base_uri": "https://localhost:8080/"
        },
        "id": "ni0Eyi8EPe0u",
        "outputId": "97e9feb6-8468-42eb-e8d8-8d8dd0bd5a20"
      },
      "execution_count": 17,
      "outputs": [
        {
          "output_type": "stream",
          "name": "stdout",
          "text": [
            "apple\n",
            "mango\n",
            "banana\n",
            "watermelon\n",
            "0\n",
            "1\n",
            "2\n",
            "3\n",
            "69.0\n"
          ]
        }
      ]
    },
    {
      "cell_type": "code",
      "source": [
        "# for loops \n",
        "\n",
        "fruits = ['apple', 'mango', 'banana', 'watermelon']\n",
        "\n",
        "for fruit in fruits:\n",
        "  print(fruit)\n",
        "\n",
        "for fruit in range(4):\n",
        "  print(fruit)\n",
        "\n",
        "marks = [65, 55, 90, 75, 60]\n",
        "total = 0\n",
        "amount = len(marks)\n",
        "\n",
        "for mark in marks:\n",
        "  total = total + mark\n",
        "\n",
        "print(total / amount)"
      ],
      "metadata": {
        "colab": {
          "base_uri": "https://localhost:8080/"
        },
        "id": "T92E0aoDPhFe",
        "outputId": "7b8741d4-9c57-41af-8037-e626f5bbb082"
      },
      "execution_count": 18,
      "outputs": [
        {
          "output_type": "stream",
          "name": "stdout",
          "text": [
            "apple\n",
            "mango\n",
            "banana\n",
            "watermelon\n",
            "0\n",
            "1\n",
            "2\n",
            "3\n",
            "69.0\n"
          ]
        }
      ]
    },
    {
      "cell_type": "code",
      "source": [
        "# Dictonaries\n",
        "# stored in keys and values\n",
        "\n",
        "friend_ages = {'ram' : 25, 'rolf': 24, \"adam\": 55}\n",
        "\n",
        "friend_ages[\"adam\"]\n",
        "\n",
        "friend_ages[\"adam\"] = 20\n",
        "\n",
        "print(friend_ages)"
      ],
      "metadata": {
        "colab": {
          "base_uri": "https://localhost:8080/"
        },
        "id": "K7LzgdXqPoTE",
        "outputId": "dbaa14db-62c4-4e98-d51c-7122fcc829b0"
      },
      "execution_count": 19,
      "outputs": [
        {
          "output_type": "stream",
          "name": "stdout",
          "text": [
            "{'ram': 25, 'rolf': 24, 'adam': 20}\n"
          ]
        }
      ]
    },
    {
      "cell_type": "code",
      "source": [
        "x = 5\n",
        "y = 15\n",
        "\n",
        "x, y"
      ],
      "metadata": {
        "colab": {
          "base_uri": "https://localhost:8080/"
        },
        "id": "7wOw-k6EPrsP",
        "outputId": "005ddb62-ecef-4e84-e282-a4734502f722"
      },
      "execution_count": 20,
      "outputs": [
        {
          "output_type": "execute_result",
          "data": {
            "text/plain": [
              "(5, 15)"
            ]
          },
          "metadata": {},
          "execution_count": 20
        }
      ]
    }
  ]
}